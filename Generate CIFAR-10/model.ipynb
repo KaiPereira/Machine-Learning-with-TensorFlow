{
 "cells": [
  {
   "cell_type": "code",
   "execution_count": 1,
   "metadata": {},
   "outputs": [
    {
     "name": "stderr",
     "output_type": "stream",
     "text": [
      "2023-11-10 17:22:24.965881: I tensorflow/tsl/cuda/cudart_stub.cc:28] Could not find cuda drivers on your machine, GPU will not be used.\n",
      "2023-11-10 17:22:27.731001: E tensorflow/compiler/xla/stream_executor/cuda/cuda_dnn.cc:9342] Unable to register cuDNN factory: Attempting to register factory for plugin cuDNN when one has already been registered\n",
      "2023-11-10 17:22:27.731052: E tensorflow/compiler/xla/stream_executor/cuda/cuda_fft.cc:609] Unable to register cuFFT factory: Attempting to register factory for plugin cuFFT when one has already been registered\n",
      "2023-11-10 17:22:27.750828: E tensorflow/compiler/xla/stream_executor/cuda/cuda_blas.cc:1518] Unable to register cuBLAS factory: Attempting to register factory for plugin cuBLAS when one has already been registered\n",
      "2023-11-10 17:22:28.774497: I tensorflow/tsl/cuda/cudart_stub.cc:28] Could not find cuda drivers on your machine, GPU will not be used.\n",
      "2023-11-10 17:22:28.777031: I tensorflow/core/platform/cpu_feature_guard.cc:182] This TensorFlow binary is optimized to use available CPU instructions in performance-critical operations.\n",
      "To enable the following instructions: AVX2 FMA, in other operations, rebuild TensorFlow with the appropriate compiler flags.\n",
      "2023-11-10 17:22:36.066887: W tensorflow/compiler/tf2tensorrt/utils/py_utils.cc:38] TF-TRT Warning: Could not find TensorRT\n"
     ]
    }
   ],
   "source": [
    "import matplotlib.pyplot as plt\n",
    "import os\n",
    "import numpy as np\n",
    "from tensorflow.keras import layers\n",
    "import tensorflow as tf\n",
    "import time\n",
    "from IPython import display"
   ]
  },
  {
   "cell_type": "code",
   "execution_count": 2,
   "metadata": {},
   "outputs": [
    {
     "name": "stdout",
     "output_type": "stream",
     "text": [
      "(1000, 32, 32, 3)\n"
     ]
    }
   ],
   "source": [
    "# Preprocessing\n",
    "(train_images, train_labels), (_, _) = tf.keras.datasets.cifar10.load_data()\n",
    "\n",
    "# Grab only the first 1000 images\n",
    "train_images = train_images[:1000]\n",
    "train_labels = train_labels[:1000]\n",
    "\n",
    "print(train_images.shape)\n",
    "\n",
    "# Reshape to float 32\n",
    "train_images = train_images.reshape(train_images.shape[0], 32, 32, 3).astype(\"float32\")\n",
    "\n",
    "# Set the matrix of train_images to be between 1 and -1\n",
    "train_images = (train_images - 127.5) / 127.5\n",
    "\n",
    "BUFFER_SIZE = 6000\n",
    "BATCH_SIZE = 256\n",
    "\n",
    "# Turn the matrix into individual elemets\n",
    "train_dataset = tf.data.Dataset.from_tensor_slices(train_images)\n",
    "# Select random elements only from the first buffer_size elements\n",
    "train_dataset = train_dataset.shuffle(BUFFER_SIZE)\n",
    "# Total amount of elements being used or smth\n",
    "train_dataset = train_dataset.batch(BATCH_SIZE)"
   ]
  },
  {
   "cell_type": "markdown",
   "metadata": {},
   "source": []
  },
  {
   "cell_type": "code",
   "execution_count": 26,
   "metadata": {},
   "outputs": [],
   "source": [
    "def generate_generator():\n",
    "    model = tf.keras.Sequential()\n",
    "    model.add(layers.Dense(8*8*256, use_bias=False, input_shape=(100,)))\n",
    "    model.add(layers.BatchNormalization())\n",
    "    model.add(layers.LeakyReLU())\n",
    "\n",
    "    model.add(layers.Reshape((8, 8, 256)))\n",
    "\n",
    "    model.add(layers.Conv2DTranspose(128, (5, 5), strides=(1, 1), padding='same', use_bias=False))\n",
    "\n",
    "    model.add(layers.BatchNormalization())\n",
    "    model.add(layers.LeakyReLU())\n",
    "\n",
    "    model.add(layers.Conv2DTranspose(64, (5, 5), strides=(2, 2), padding='same', use_bias=False))\n",
    "\n",
    "    model.add(layers.BatchNormalization())\n",
    "    model.add(layers.LeakyReLU())\n",
    "\n",
    "    model.add(layers.Conv2DTranspose(3, (5, 5), strides=(2, 2), padding='same', use_bias=False, activation='tanh'))\n",
    "\n",
    "    return model\n",
    "\n",
    "def generate_discriminator():\n",
    "    activation_mode = \"relu\"\n",
    "\n",
    "    model = tf.keras.Sequential([\n",
    "        layers.Conv2D(\n",
    "            filters=100,\n",
    "            kernel_size=3,\n",
    "            activation=activation_mode,\n",
    "            input_shape=(32, 32, 3)\n",
    "        ),\n",
    "        layers.Conv2D(100, 3, activation=activation_mode),\n",
    "        layers.Dropout(0.4),\n",
    "        layers.MaxPool2D(),\n",
    "        layers.Conv2D(100, 3, activation=activation_mode),\n",
    "        layers.Conv2D(100, 3, activation=activation_mode),\n",
    "        layers.Dropout(0.4),\n",
    "        layers.MaxPool2D(),\n",
    "        layers.Flatten(),\n",
    "        layers.Dense(100, activation=\"tanh\"),\n",
    "        layers.Dropout(0.4),\n",
    "    ])\n",
    "\n",
    "    return model"
   ]
  },
  {
   "cell_type": "code",
   "execution_count": 27,
   "metadata": {},
   "outputs": [
    {
     "name": "stdout",
     "output_type": "stream",
     "text": [
      "(1, 32, 32, 3)\n"
     ]
    },
    {
     "data": {
      "image/png": "[encoded data removed]",
      "text/plain": [
       "<Figure size 640x480 with 1 Axes>"
      ]
     },
     "metadata": {},
     "output_type": "display_data"
    }
   ],
   "source": [
    "generator = generate_generator()\n",
    "\n",
    "noise = tf.random.normal([1, 100])\n",
    "generated_image = generator(noise, training=False)\n",
    "\n",
    "plt.imshow(generated_image[0, :, :, 0])\n",
    "\n",
    "print(generated_image.shape)\n",
    "\n",
    "descriminator = generate_discriminator()\n",
    "decision = descriminator(generated_image)"
   ]
  },
  {
   "cell_type": "code",
   "execution_count": 28,
   "metadata": {},
   "outputs": [
    {
     "name": "stdout",
     "output_type": "stream",
     "text": [
      "tf.Tensor(\n",
      "[[-3.1423818e-03 -4.0815254e-03 -3.2205856e-03  2.4206580e-03\n",
      "   6.3303200e-04 -2.0527847e-04  1.4325588e-03 -4.2928718e-03\n",
      "  -1.0610925e-04 -2.2149072e-03  8.7407872e-04  2.6815184e-04\n",
      "  -6.3353060e-03 -7.8323361e-04  1.9250208e-04  3.4430681e-03\n",
      "   2.8444126e-03  2.5575713e-04 -5.4418540e-04 -5.4149092e-03\n",
      "   1.3654903e-03 -3.3595518e-03 -5.4971984e-05  8.1619876e-04\n",
      "  -1.9266721e-03  6.4410060e-03 -1.5801513e-03  4.3861773e-03\n",
      "   3.3747118e-03  7.7829266e-04 -5.1574791e-03  2.7613313e-04\n",
      "  -4.5274869e-03 -3.8167462e-03  5.1664994e-03  2.8146105e-03\n",
      "  -1.2249789e-04  5.1903753e-03  1.7921653e-03  1.4326575e-03\n",
      "   4.5627346e-03 -3.6974803e-03 -4.4949893e-03  2.6449696e-03\n",
      "   5.3482712e-04  6.0519087e-03 -2.4397619e-04 -3.9231703e-03\n",
      "   7.3562986e-03 -1.4776696e-03  1.3589733e-03 -2.4925992e-03\n",
      "  -9.6237112e-04  9.3934924e-04  1.0316804e-03  3.6228443e-03\n",
      "   2.8509699e-04  1.8055185e-03 -8.0063120e-03 -2.9821433e-03\n",
      "   1.5908139e-03 -4.2347731e-03 -9.3491655e-03  3.7294085e-04\n",
      "  -2.9140124e-03  2.3521755e-03 -1.5340151e-03 -5.9793470e-04\n",
      "  -7.6478947e-04  2.0904848e-03  6.6577741e-03  5.4547307e-03\n",
      "   1.6841735e-03  1.2337655e-03 -6.0321874e-04 -4.3335711e-04\n",
      "  -1.3937138e-04 -3.1650173e-03  5.6934487e-03 -1.6984541e-03\n",
      "  -1.1243619e-03  2.3423256e-03 -2.1640079e-04  4.3810955e-03\n",
      "   2.1300655e-04  3.8872110e-03 -4.2230794e-03 -3.1319933e-03\n",
      "  -1.8254077e-03  1.2981819e-04 -3.0681831e-04  3.5007787e-04\n",
      "   3.1556099e-04  1.3950554e-03  2.0117951e-03 -3.6942463e-03\n",
      "   3.9760307e-03  5.9943991e-03  2.5528253e-03  3.6385879e-03]], shape=(1, 100), dtype=float32)\n"
     ]
    }
   ],
   "source": [
    "# Create our descriminator model and make it do it's decision on the noise\n",
    "discriminator = generate_discriminator()\n",
    "decision = discriminator(generated_image)\n",
    "print (decision)"
   ]
  },
  {
   "cell_type": "code",
   "execution_count": 29,
   "metadata": {},
   "outputs": [],
   "source": [
    "# Cross Entropy Loss YK\n",
    "cross_entropy = tf.keras.losses.BinaryCrossentropy(from_logits=True)\n",
    "\n",
    "# Discrimator loss will get the loss of fake and real\n",
    "def discriminator_loss(real_output, fake_output):\n",
    "    real_loss = cross_entropy(tf.ones_like(real_output), real_output)\n",
    "    fake_loss = cross_entropy(tf.zeros_like(fake_output), fake_output)\n",
    "    total_loss = real_loss + fake_loss\n",
    "    return total_loss\n",
    "\n",
    "# Generator loss will get the loss of the fake\n",
    "def generator_loss(fake_output):\n",
    "    return cross_entropy(tf.ones_like(fake_output), fake_output)"
   ]
  },
  {
   "cell_type": "code",
   "execution_count": 30,
   "metadata": {},
   "outputs": [],
   "source": [
    "# Using adam optimizers, maybe try ada after\n",
    "generator_optimizer = tf.keras.optimizers.Adam(1e-4)\n",
    "discriminator_optimizer = tf.keras.optimizers.Adam(1e-4)\n",
    "\n",
    "\n",
    "EPOCHS = 10\n",
    "# Noise dim = amount of noise\n",
    "noise_dim = 100\n",
    "num_examples = 16\n",
    "\n",
    "# Seed for re-using\n",
    "seed = tf.random.normal([num_examples, noise_dim])\n",
    "\n",
    "@tf.function\n",
    "def train_step(images):\n",
    "    # Generate random values based off of batch size and noise\n",
    "    noise = tf.random.normal([BATCH_SIZE, noise_dim])\n",
    "\n",
    "    # Compute the gradient to gradually improve the model\n",
    "    with tf.GradientTape() as gen_tape, tf.GradientTape() as disc_tape:\n",
    "        # Create images using the generator noise\n",
    "        generated_images = generator(noise, training=True)\n",
    "\n",
    "        # The real image\n",
    "        real_output = discriminator(images, training=True)\n",
    "        # What the generator made\n",
    "        fake_output = discriminator(generated_images, training=True)\n",
    "\n",
    "        # How good the generator was\n",
    "        gen_loss = generator_loss(fake_output)\n",
    "        # How good the discrimator was\n",
    "        disc_loss = discriminator_loss(real_output, fake_output)\n",
    "\n",
    "    # Create gradients based off of their losses\n",
    "    gradients_of_generator = gen_tape.gradient(gen_loss, generator.trainable_variables)\n",
    "    gradients_of_discriminator = disc_tape.gradient(disc_loss, discriminator.trainable_variables)\n",
    "\n",
    "    # Optimize the 2 models based off of the results\n",
    "    generator_optimizer.apply_gradients(zip(gradients_of_generator, generator.trainable_variables))\n",
    "    discriminator_optimizer.apply_gradients(zip(gradients_of_discriminator, discriminator.trainable_variables))"
   ]
  },
  {
   "cell_type": "code",
   "execution_count": 31,
   "metadata": {},
   "outputs": [],
   "source": [
    "# Pass in model, epochs and seed\n",
    "def generate_images(model, epoch, seed):\n",
    "    # Run everything in inference mode\n",
    "    predictions = model(seed, training=False)\n",
    "\n",
    "    figure = plt.figure(figsize=(4, 4))\n",
    "\n",
    "    for i in range(predictions.shape[0]):\n",
    "        plt.subplot(4, 4, 1+1)\n",
    "        plt.imshow(predictions[i, :, :, 0] * 127.5 + 127.5)\n",
    "        plt.axis(\"off\")\n",
    "\n",
    "    plt.savefig(f\"/epochs_image/image_at_epoch_{epoch}\")\n",
    "    plt.show()"
   ]
  },
  {
   "cell_type": "code",
   "execution_count": 32,
   "metadata": {},
   "outputs": [],
   "source": [
    "checkpoint_dir = './training_checkpoints'\n",
    "checkpoint_prefix = os.path.join(checkpoint_dir, \"ckpt\")\n",
    "checkpoint = tf.train.Checkpoint(generator_optimizer=generator_optimizer,\n",
    "                                 discriminator_optimizer=discriminator_optimizer,\n",
    "                                 generator=generator,\n",
    "                                 discriminator=discriminator)"
   ]
  },
  {
   "cell_type": "code",
   "execution_count": 33,
   "metadata": {},
   "outputs": [],
   "source": [
    "def train(dataset, epochs):\n",
    "\n",
    "    # Map over each epoch\n",
    "    for epoch in range(epochs):\n",
    "        # print(epoch)Get the time for funsy's\n",
    "        start = time.time()\n",
    "\n",
    "        for image_batch in dataset:\n",
    "            train_step(image_batch)\n",
    "\n",
    "        # Produce fun gifs of the images haha\n",
    "        display.clear_output(wait=True)\n",
    "        generate_images(generator, epoch + 1, seed)\n",
    "\n",
    "        # Save the model every 15 epochs\n",
    "        if (epoch + 1) % 15 == 0:\n",
    "            checkpoint.save(file_prefix = checkpoint_prefix)\n",
    "\n",
    "        print(f\"Time for epoch {epoch} is {time.time()-start} seconds\")\n",
    "\n",
    "    display.clear_output(wait=True)\n",
    "    generate_images(generator, epochs + 1, seed)"
   ]
  },
  {
   "cell_type": "code",
   "execution_count": 34,
   "metadata": {},
   "outputs": [
    {
     "name": "stderr",
     "output_type": "stream",
     "text": [
      "2023-11-10 17:28:03.260343: W tensorflow/tsl/framework/cpu_allocator_impl.cc:83] Allocation of 92160000 exceeds 10% of free system memory.\n",
      "2023-11-10 17:28:03.376068: W tensorflow/tsl/framework/cpu_allocator_impl.cc:83] Allocation of 80281600 exceeds 10% of free system memory.\n",
      "2023-11-10 17:28:03.377536: W tensorflow/tsl/framework/cpu_allocator_impl.cc:83] Allocation of 80281600 exceeds 10% of free system memory.\n",
      "2023-11-10 17:28:03.590432: W tensorflow/tsl/framework/cpu_allocator_impl.cc:83] Allocation of 80281600 exceeds 10% of free system memory.\n",
      "2023-11-10 17:28:04.098214: W tensorflow/tsl/framework/cpu_allocator_impl.cc:83] Allocation of 80281600 exceeds 10% of free system memory.\n"
     ]
    }
   ],
   "source": [
    "train(train_dataset, EPOCHS)"
   ]
  }
 ],
 "metadata": {
  "kernelspec": {
   "display_name": "Python 3",
   "language": "python",
   "name": "python3"
  },
  "language_info": {
   "codemirror_mode": {
    "name": "ipython",
    "version": 3
   },
   "file_extension": ".py",
   "mimetype": "text/x-python",
   "name": "python",
   "nbconvert_exporter": "python",
   "pygments_lexer": "ipython3",
   "version": "3.10.8"
  }
 },
 "nbformat": 4,
 "nbformat_minor": 2
}
